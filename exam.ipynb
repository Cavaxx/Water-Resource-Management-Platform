{
 "cells": [
  {
   "cell_type": "markdown",
   "metadata": {},
   "source": [
    "1 ## \n",
    " Describe in detail the meaning of the visual encoding elements and their attributes in the following infographic reporting the correlation between the expression of the two microRNA hsa-miR-1-3p and MIR4435-2HG in different samples (black dots)."
   ]
  },
  {
   "cell_type": "markdown",
   "metadata": {},
   "source": [
    "The infographic presents a scatter plot to illustrate the relationship between the expressions of two microRNAs, hsa-miR-1-3p and MIR4435-2HG. Each black dot represents a sample with measured expressions of these microRNAs, plotted on the y-axis for hsa-miR-1-3p and the x-axis for MIR4435-2HG. This setup reveals the variability and potential correlation between the two expressions.\n",
    "\n",
    "At the top of the plot, the correlation coefficient, \"R = -0.11,\" indicates a very weak inverse correlation between hsa-miR-1-3p and MIR4435-2HG. Next to this, the p-value \"p = 0.0096\" signifies that the observed correlation is statistically significant, suggesting that the inverse relationship is not due to random chance.\n",
    "\n",
    "A blue fit line runs through the data points, reflecting the trend of the correlation, with a shaded area around it representing the confidence interval. This interval indicates the uncertainty around the estimated line, where a narrower shaded area implies higher confidence in the line’s slope and position.\n",
    "\n",
    "Additionally, marginal histograms are placed on the top and right sides of the scatter plot. These histograms show the distribution of expression levels for MIR4435-2HG (orange) and hsa-miR-1-3p (blue), providing a clear view of the range and commonality of these expression levels within the samples.\n",
    "\n",
    "Overall, the infographic effectively combines the scatter plot, correlation statistics, and distribution histograms to offer a comprehensive view of the relationship between the two microRNA expressions, highlighting their individual distribution characteristics and their joint relationship."
   ]
  },
  {
   "cell_type": "markdown",
   "metadata": {},
   "source": [
    "Discuss in detail the use of different color palettes in data visualization, marking the difference between their appropriate adoption and their misuse, with some commented explanatory graphical examples, different from those presented in the lecture slides."
   ]
  },
  {
   "cell_type": "markdown",
   "metadata": {},
   "source": [
    "The use of color palettes serves five distinct purposes: Differentiation among visual elements, Highlighting specific elements, Encoding Data Values, Creating Visual Hierarchy, and Improving Aesthetics. Differentiation is essential for distinguishing between various data series or categories. For example, in a pie chart, each slice is assigned a different color to differentiate it and the data it represents from other slices. Highlighting plays a persuasive role by drawing attention to specific parts of a graph to emphasize particular data interpretations. Encoding Data Values aims to represent data values or ranges using color gradients, such as in a heatmap. Creating Visual Hierarchy clarifies and emphasizes the most important information displayed on a graph. For instance, a bar chart might use different colors for primary and secondary data points. Lastly, Improving Aesthetics is crucial for pleasing viewers and focusing their attention on the visualization, enhancing its visual appeal and making it more engaging"
   ]
  },
  {
   "cell_type": "markdown",
   "metadata": {},
   "source": [
    "![alt text](/home/ubuntu/Data_Science/Data_Viz/Appropriate_Differentiation_in_Pie_Chart.png)\n"
   ]
  }
 ],
 "metadata": {
  "language_info": {
   "name": "python"
  }
 },
 "nbformat": 4,
 "nbformat_minor": 2
}
