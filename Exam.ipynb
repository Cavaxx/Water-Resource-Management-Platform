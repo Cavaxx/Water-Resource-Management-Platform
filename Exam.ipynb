{
 "cells": [
  {
   "cell_type": "markdown",
   "metadata": {},
   "source": [
    "## 2 \n",
    "Discuss in detail the use of different color palettes in data visualization, marking the difference between their appropriate adoption and their misuse, with some commented explanatory graphical examples, different from those presented in the lecture slides.\n"
   ]
  },
  {
   "cell_type": "markdown",
   "metadata": {},
   "source": [
    "The use of color palettes has 5 different goals: Differentiation among visual elements, Highlighting some elements, Encoding Data Values, Creating Visual Hierarchy, Improving Aesthetics. The Differentiation is required to distinguish different data series or categories. Let's think to a pie chart with different slices. Each slice has a different color respect to the others in order to differentiate itself, and the data represented by it, from the others slice. Highlinghting has a more persuasive role, indeed we want to highlight some parts of a graph to draw attention on them in to promote a specific intrepretation of those data. On the other hand, Encoding Data Values has a mere gnoseologic aim. By using,for instance an heat map, we want to represent data values or ranges through color gradients. Creating Visual Hierarchy is the way to make clear and selfevident what are the most important infos showed on a graph. As example we can take a bar chart with different sections of bars colored to indicate primary and secondary data points. Least but for importance, Improving Aesthetics plays a crucial role into pleasing the viewers and bring their attention to our works.So the improvement of the aesthetics can be define an the enhancing of the visual appeal to make the visualization more engaging. \n"
   ]
  },
  {
   "cell_type": "markdown",
   "metadata": {},
   "source": [
    "![alt text](/home/ubuntu/Data_Science/Data_Viz/Appropriate_Differentiation_in_Pie_Chart.png)\n"
   ]
  },
  {
   "cell_type": "markdown",
   "metadata": {},
   "source": [
    "![alt text](/home/ubuntu/Data_Science/Data_Viz/Appropriate_Encoding_in_Heat_Map.png)\n"
   ]
  },
  {
   "cell_type": "markdown",
   "metadata": {},
   "source": [
    "![alt text](/home/ubuntu/Data_Science/Data_Viz/Appropriate_Highlighting_in_Bar_Chart.png)\n"
   ]
  },
  {
   "cell_type": "markdown",
   "metadata": {},
   "source": [
    "![alt text](/home/ubuntu/Data_Science/Data_Viz/Appropriate_Visual_Hierarchy_in_Layered_Bar_Chart.png)\n"
   ]
  },
  {
   "cell_type": "markdown",
   "metadata": {},
   "source": [
    "![alt text](/home/ubuntu/Data_Science/Data_Viz/Enhanced_Aesthetics_in_Line_Chart.png)\n"
   ]
  },
  {
   "cell_type": "markdown",
   "metadata": {},
   "source": [
    "![alt text](/home/ubuntu/Data_Science/Data_Viz/Misuse_Distracting_Aesthetics_in_Line_Chart.png)\n"
   ]
  },
  {
   "cell_type": "markdown",
   "metadata": {},
   "source": [
    "![alt text](/home/ubuntu/Data_Science/Data_Viz/Misuse_Poor_Differentiation_in_Pie_Chart.png)\n"
   ]
  },
  {
   "cell_type": "markdown",
   "metadata": {},
   "source": [
    "![alt text](/home/ubuntu/Data_Science/Data_Viz/Misuse_Poor_Encoding_in_Heat_Map.png)\n"
   ]
  },
  {
   "cell_type": "markdown",
   "metadata": {},
   "source": [
    "![alt text](/home/ubuntu/Data_Science/Data_Viz/Misuse_Poor_Visual_Hierarchy_in_Layered_Bar_Chart.png)\n"
   ]
  },
  {
   "cell_type": "markdown",
   "metadata": {},
   "source": [
    "![alt text](/home/ubuntu/Data_Science/Data_Viz/Misuse_Random_Coloring_in_Bar_Chart.png)\n"
   ]
  },
  {
   "cell_type": "markdown",
   "metadata": {},
   "source": [
    "## 3\n",
    "\n",
    "UMAP is a topology-based dimensionality reduction algorithm, while tSNE is relying on statistics. Explain in detail the previous sentence and show some explanatory plots"
   ]
  },
  {
   "cell_type": "markdown",
   "metadata": {},
   "source": [
    "UMAP (Uniform Manifold Approximation and Projection) and t-SNE (t-Distributed Stochastic Neighbor Embedding) are both widely used for non-linear dimensionality reduction, but they differ in their approaches.\n",
    "\n",
    "UMAP is a topology-based dimensionality reduction algorithm. This means it focuses on preserving the topological structure of the data. In this context, \"manifold\" refers to a topological space that locally resembles Euclidean space, allowing the data to be understood as lying on some continuous surface. UMAP aims to maintain both local and global structures of the data when reducing its dimensionality. It works by constructing a high-dimensional graph representation of the data and then optimizing a low-dimensional graph to be as structurally similar as possible to the high-dimensional one. This approach helps in retaining the overall shape and connectivity patterns of the data, making UMAP particularly effective at preserving the continuity and relationships in the data's underlying structure.\n",
    "\n",
    "On the other hand, t-SNE relies on statistical methods for dimensionality reduction. The algorithm converts pairwise similarities between data points into joint probabilities and seeks to minimize the Kullback-Leibler divergence between these probabilities in high-dimensional and low-dimensional spaces. Essentially, t-SNE aims to preserve the local relationships between data points. It excels at revealing clusters within the data by ensuring that points that are close in the high-dimensional space remain close in the low-dimensional space, while points that are far apart in the high-dimensional space are also far apart in the low-dimensional space. This focus on local neighborhood preservation makes t-SNE particularly effective at identifying and visualizing distinct groupings within the data."
   ]
  },
  {
   "cell_type": "markdown",
   "metadata": {},
   "source": [
    "This plot showed below show  the result of applying t-SNE to our dataset. t-SNE has preserved local relationships, clearly revealing distinct clusters. Points that were close together in high-dimensional space remain close together in the 2D plot."
   ]
  },
  {
   "cell_type": "markdown",
   "metadata": {},
   "source": [
    "![alt text](/home/ubuntu/Data_Science/Data_Viz/t_SNE_res.png)\n"
   ]
  },
  {
   "cell_type": "markdown",
   "metadata": {},
   "source": [
    "But with UMAP we can see that it has not only preserved local clusters but also maintained some of the global structure of the data. This means that while clusters are clearly visible, the overall shape and connectivity of the data are better preserved compared to t-SNE."
   ]
  },
  {
   "cell_type": "markdown",
   "metadata": {},
   "source": [
    "![alt text](/home/ubuntu/Data_Science/Data_Viz/UMAP_res.png)\n"
   ]
  },
  {
   "cell_type": "markdown",
   "metadata": {},
   "source": [
    "## 4 \n",
    "The datafile USA_car_dataset.csv collects records about used car sales in the US. Choose two non-geographical dataset variables and prepare an infographic with two panels including a US state choropleth map and another statistical graph both displaying the two chosen indicators."
   ]
  },
  {
   "cell_type": "markdown",
   "metadata": {},
   "source": [
    "![alt text](/home/ubuntu/Data_Science/Data_Viz/American_cars.png)\n"
   ]
  },
  {
   "cell_type": "code",
   "execution_count": null,
   "metadata": {},
   "outputs": [],
   "source": []
  },
  {
   "cell_type": "markdown",
   "metadata": {},
   "source": [
    "Using the dataset disease.csv, try to replicate the following plot"
   ]
  },
  {
   "cell_type": "markdown",
   "metadata": {},
   "source": [
    "![alt text](/home/ubuntu/Data_Science/Data_Viz/disease.png)"
   ]
  },
  {
   "cell_type": "markdown",
   "metadata": {},
   "source": [
    "1 ## \n",
    " Describe in detail the meaning of the visual encoding elements and their attributes in the following infographic reporting the correlation between the expression of the two microRNA hsa-miR-1-3p and MIR4435-2HG in different samples (black dots)."
   ]
  },
  {
   "cell_type": "markdown",
   "metadata": {},
   "source": [
    "The infographic presents a scatter plot to illustrate the relationship between the expressions of two microRNAs, hsa-miR-1-3p and MIR4435-2HG. Each black dot represents a sample with measured expressions of these microRNAs, plotted on the y-axis for hsa-miR-1-3p and the x-axis for MIR4435-2HG. This setup reveals the variability and potential correlation between the two expressions.\n",
    "\n",
    "At the top of the plot, the correlation coefficient, \"R = -0.11,\" indicates a very weak inverse correlation between hsa-miR-1-3p and MIR4435-2HG. Next to this, the p-value \"p = 0.0096\" signifies that the observed correlation is statistically significant, suggesting that the inverse relationship is not due to random chance.\n",
    "\n",
    "A blue fit line runs through the data points, reflecting the trend of the correlation, with a shaded area around it representing the confidence interval. This interval indicates the uncertainty around the estimated line, where a narrower shaded area implies higher confidence in the line’s slope and position.\n",
    "\n",
    "Additionally, marginal histograms are placed on the top and right sides of the scatter plot. These histograms show the distribution of expression levels for MIR4435-2HG (orange) and hsa-miR-1-3p (blue), providing a clear view of the range and commonality of these expression levels within the samples.\n",
    "\n",
    "Overall, the infographic effectively combines the scatter plot, correlation statistics, and distribution histograms to offer a comprehensive view of the relationship between the two microRNA expressions, highlighting their individual distribution characteristics and their joint relationship."
   ]
  }
 ],
 "metadata": {
  "kernelspec": {
   "display_name": "data-science-KLwnPlAe-py3.10",
   "language": "python",
   "name": "python3"
  },
  "language_info": {
   "codemirror_mode": {
    "name": "ipython",
    "version": 3
   },
   "file_extension": ".py",
   "mimetype": "text/x-python",
   "name": "python",
   "nbconvert_exporter": "python",
   "pygments_lexer": "ipython3",
   "version": "3.10.12"
  }
 },
 "nbformat": 4,
 "nbformat_minor": 2
}
